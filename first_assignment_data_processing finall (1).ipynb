{
 "cells": [
  {
   "cell_type": "markdown",
   "id": "254ffc87",
   "metadata": {},
   "source": [
    "# TP1 - Analyzing New York City Taxi Data\n",
    "By Welfi Kharroubi & Tanaz Piriaei"
   ]
  },
  {
   "cell_type": "markdown",
   "id": "94b2ba49",
   "metadata": {},
   "source": [
    "## Imports"
   ]
  },
  {
   "cell_type": "code",
   "execution_count": null,
   "id": "b87ceba7",
   "metadata": {},
   "outputs": [],
   "source": [
    "import matplotlib.pyplot as plt\n",
    "\n",
    "from pyspark.sql import SparkSession\n",
    "\n",
    "%matplotlib inline\n",
    "plt.style.use('ggplot')"
   ]
  },
  {
   "cell_type": "code",
   "execution_count": 2,
   "id": "67eab432",
   "metadata": {},
   "outputs": [
    {
     "name": "stdout",
     "output_type": "stream",
     "text": [
      "Requirement already satisfied: shapely in /usr/local/lib/python3.9/dist-packages (2.0.6)\n",
      "Requirement already satisfied: numpy<3,>=1.14 in /usr/local/lib/python3.9/dist-packages (from shapely) (2.0.2)\n",
      "\u001b[33mWARNING: Running pip as the 'root' user can result in broken permissions and conflicting behaviour with the system package manager, possibly rendering your system unusable.It is recommended to use a virtual environment instead: https://pip.pypa.io/warnings/venv. Use the --root-user-action option if you know what you are doing and want to suppress this warning.\u001b[0m\u001b[33m\n",
      "\u001b[0mNote: you may need to restart the kernel to use updated packages.\n"
     ]
    }
   ],
   "source": [
    "pip install shapely"
   ]
  },
  {
   "cell_type": "markdown",
   "id": "d5434ee7",
   "metadata": {},
   "source": [
    "We kick off our project with initiating a Spark session called \"pyspark-nyc-taxi-data-analysis\"."
   ]
  },
  {
   "cell_type": "code",
   "execution_count": 3,
   "id": "14455883",
   "metadata": {},
   "outputs": [
    {
     "name": "stderr",
     "output_type": "stream",
     "text": [
      "24/10/21 15:54:51 WARN NativeCodeLoader: Unable to load native-hadoop library for your platform... using builtin-java classes where applicable\n",
      "Using Spark's default log4j profile: org/apache/spark/log4j-defaults.properties\n",
      "Setting default log level to \"WARN\".\n",
      "To adjust logging level use sc.setLogLevel(newLevel). For SparkR, use setLogLevel(newLevel).\n"
     ]
    }
   ],
   "source": [
    "spark = SparkSession.\\\n",
    "        builder.\\\n",
    "        appName(\"pyspark-nyc-taxi-data-analysis\").\\\n",
    "        master(\"spark://spark-master:7077\").\\\n",
    "        config(\"spark.executor.memory\", \"512m\").\\\n",
    "        getOrCreate()"
   ]
  },
  {
   "cell_type": "code",
   "execution_count": 4,
   "id": "70d90fe8",
   "metadata": {},
   "outputs": [],
   "source": [
    "sc = spark.sparkContext"
   ]
  },
  {
   "cell_type": "markdown",
   "id": "73185cf4",
   "metadata": {},
   "source": [
    "## Reading the data"
   ]
  },
  {
   "cell_type": "code",
   "execution_count": 5,
   "id": "2a0c420b",
   "metadata": {},
   "outputs": [],
   "source": [
    "### NYC Taxi data"
   ]
  },
  {
   "cell_type": "code",
   "execution_count": 6,
   "id": "f2b89bac",
   "metadata": {},
   "outputs": [],
   "source": [
    "data = spark.read.csv(path=\"Sample_NYC_Data.csv\", sep=\",\", header=True)"
   ]
  },
  {
   "cell_type": "code",
   "execution_count": 7,
   "id": "45a9b4ac",
   "metadata": {},
   "outputs": [
    {
     "data": {
      "text/plain": [
       "[Row(medallion='89D227B655E5C82AECF13C3F540D4CF4', hack_license='BA96DE419E711691B9445D6A6307C170', vendor_id='CMT', rate_code='1', store_and_fwd_flag='N', pickup_datetime='01-01-13 15:11', dropoff_datetime='01-01-13 15:18', passenger_count='4', pickup_longitude='-73.978165', pickup_latitude='40.757977', dropoff_longitude='-73.989838', dropoff_latitude='40.751171'),\n",
       " Row(medallion='0BD7C8F5BA12B88E0B67BED28BEA73D8', hack_license='9FD8F69F0804BDB5549F40E9DA1BE472', vendor_id='CMT', rate_code='1', store_and_fwd_flag='N', pickup_datetime='06-01-13 00:18', dropoff_datetime='06-01-13 00:22', passenger_count='1', pickup_longitude='-74.006683', pickup_latitude='40.731781', dropoff_longitude='-73.994499', dropoff_latitude='40.75066'),\n",
       " Row(medallion='0BD7C8F5BA12B88E0B67BED28BEA73D8', hack_license='9FD8F69F0804BDB5549F40E9DA1BE472', vendor_id='CMT', rate_code='1', store_and_fwd_flag='N', pickup_datetime='05-01-13 18:49', dropoff_datetime='05-01-13 18:54', passenger_count='1', pickup_longitude='-74.004707', pickup_latitude='40.73777', dropoff_longitude='-74.009834', dropoff_latitude='40.726002'),\n",
       " Row(medallion='DFD2202EE08F7A8DC9A57B02ACB81FE2', hack_license='51EE87E3205C985EF8431D850C786310', vendor_id='CMT', rate_code='1', store_and_fwd_flag='N', pickup_datetime='07-01-13 23:54', dropoff_datetime='07-01-13 23:58', passenger_count='2', pickup_longitude='-73.974602', pickup_latitude='40.759945', dropoff_longitude='-73.984734', dropoff_latitude='40.759388'),\n",
       " Row(medallion='DFD2202EE08F7A8DC9A57B02ACB81FE2', hack_license='51EE87E3205C985EF8431D850C786310', vendor_id='CMT', rate_code='1', store_and_fwd_flag='N', pickup_datetime='07-01-13 23:25', dropoff_datetime='07-01-13 23:34', passenger_count='1', pickup_longitude='-73.97625', pickup_latitude='40.748528', dropoff_longitude='-74.002586', dropoff_latitude='40.747868')]"
      ]
     },
     "execution_count": 7,
     "metadata": {},
     "output_type": "execute_result"
    }
   ],
   "source": [
    "data.head(5)"
   ]
  },
  {
   "cell_type": "code",
   "execution_count": 8,
   "id": "e66a1fe1",
   "metadata": {},
   "outputs": [
    {
     "name": "stdout",
     "output_type": "stream",
     "text": [
      "root\n",
      " |-- medallion: string (nullable = true)\n",
      " |-- hack_license: string (nullable = true)\n",
      " |-- vendor_id: string (nullable = true)\n",
      " |-- rate_code: string (nullable = true)\n",
      " |-- store_and_fwd_flag: string (nullable = true)\n",
      " |-- pickup_datetime: string (nullable = true)\n",
      " |-- dropoff_datetime: string (nullable = true)\n",
      " |-- passenger_count: string (nullable = true)\n",
      " |-- pickup_longitude: string (nullable = true)\n",
      " |-- pickup_latitude: string (nullable = true)\n",
      " |-- dropoff_longitude: string (nullable = true)\n",
      " |-- dropoff_latitude: string (nullable = true)\n",
      "\n"
     ]
    }
   ],
   "source": [
    "data.printSchema()"
   ]
  },
  {
   "cell_type": "markdown",
   "id": "83678f36",
   "metadata": {},
   "source": [
    "We have 13 columns in total, all the columns are nullable and they are in string format."
   ]
  },
  {
   "cell_type": "markdown",
   "id": "26a81ab4",
   "metadata": {},
   "source": [
    "### GeoJSON data\n",
    "We load and process GeoJSON data containing information about NYC boroughs. First, we open the GeoJSON file, nyc-boroughs.geojson, and parse its contents using Python's json module. For each borough, we extract the borough name and its geographic bounding box. Specifically, we gather the minimum and maximum longitude and latitude values from the coordinates in each feature's geometry (assuming each borough is represented as a polygon). This data is stored in boroughs_bounding_boxes as a list of dictionaries, each holding the name and bounding box coordinates for a borough."
   ]
  },
  {
   "cell_type": "code",
   "execution_count": 10,
   "id": "4a413a2d",
   "metadata": {},
   "outputs": [],
   "source": [
    "import json\n",
    "\n",
    "# Load GeoJSON data for boroughs\n",
    "with open(\"nyc-boroughs.geojson\", \"r\") as f:\n",
    "    geojson_data = json.load(f)\n",
    "\n",
    "# Extract borough name and bounding boxes (min/max longitude and latitude)\n",
    "boroughs_bounding_boxes = []\n",
    "for feature in geojson_data['features']:\n",
    "    borough_name = feature['properties']['borough']  # Adjust based on GeoJSON\n",
    "    coordinates = feature['geometry']['coordinates'][0]  # Assuming polygons\n",
    "    lons, lats = zip(*coordinates)\n",
    "    min_lon, max_lon = min(lons), max(lons)\n",
    "    min_lat, max_lat = min(lats), max(lats)\n",
    "    boroughs_bounding_boxes.append({\n",
    "        \"borough_name\": borough_name,\n",
    "        \"min_lon\": min_lon,\n",
    "        \"max_lon\": max_lon,\n",
    "        \"min_lat\": min_lat,\n",
    "        \"max_lat\": max_lat\n",
    "    })"
   ]
  },
  {
   "cell_type": "code",
   "execution_count": 11,
   "id": "3618ab3c",
   "metadata": {},
   "outputs": [],
   "source": [
    "# Broadcast the bounding boxes to Spark workers\n",
    "broadcast_bounding_boxes = spark.sparkContext.broadcast(boroughs_bounding_boxes)"
   ]
  },
  {
   "cell_type": "markdown",
   "id": "88b3dc6c",
   "metadata": {},
   "source": [
    "we define a User-Defined Function (UDF) to determine the borough for a given longitude and latitude pair. The get_borough function takes these coordinates as input, converts them to floating-point numbers, and iterates through a broadcasted list of borough bounding boxes (broadcast_bounding_boxes.value). For each borough, it checks if the input coordinates fall within the borough's bounding box. If a match is found, the borough’s name is returned; if the coordinates are invalid or don’t match any borough, the function returns None. We register this function as a Spark UDF (get_borough_udf), allowing us to apply it on Spark DataFrames."
   ]
  },
  {
   "cell_type": "code",
   "execution_count": 12,
   "id": "ba04c45e",
   "metadata": {},
   "outputs": [],
   "source": [
    "from pyspark.sql import functions as F\n",
    "from pyspark.sql.types import StringType\n",
    "\n",
    "# UDF to determine the borough for a given latitude/longitude\n",
    "def get_borough(longitude, latitude):\n",
    "    try:\n",
    "        # Convert longitude and latitude to floats\n",
    "        lon = float(longitude)\n",
    "        lat = float(latitude)\n",
    "        \n",
    "        boroughs = broadcast_bounding_boxes.value\n",
    "        for borough in boroughs:\n",
    "            if (borough['min_lon'] <= lon <= borough['max_lon'] and\n",
    "                borough['min_lat'] <= lat <= borough['max_lat']):\n",
    "                return borough['borough_name']\n",
    "    except (TypeError, ValueError):\n",
    "        # In case of invalid data (e.g., missing or malformed coordinates), return None\n",
    "        return None\n",
    "    return None\n",
    "\n",
    "# Register the UDF with Spark\n",
    "get_borough_udf = F.udf(get_borough, StringType())"
   ]
  },
  {
   "cell_type": "markdown",
   "id": "9fea6b7d",
   "metadata": {},
   "source": [
    "We are applying the UDFs to our data in order to create the resulting DataFrame."
   ]
  },
  {
   "cell_type": "code",
   "execution_count": null,
   "id": "7329441d",
   "metadata": {},
   "outputs": [
    {
     "name": "stderr",
     "output_type": "stream",
     "text": [
      "[Stage 2:>                                                          (0 + 1) / 1]\r"
     ]
    },
    {
     "name": "stdout",
     "output_type": "stream",
     "text": [
      "+--------------------------------+--------------------------------+---------+---------+------------------+---------------+----------------+---------------+----------------+---------------+-----------------+----------------+--------------+---------------+\n",
      "|medallion                       |hack_license                    |vendor_id|rate_code|store_and_fwd_flag|pickup_datetime|dropoff_datetime|passenger_count|pickup_longitude|pickup_latitude|dropoff_longitude|dropoff_latitude|pickup_borough|dropoff_borough|\n",
      "+--------------------------------+--------------------------------+---------+---------+------------------+---------------+----------------+---------------+----------------+---------------+-----------------+----------------+--------------+---------------+\n",
      "|89D227B655E5C82AECF13C3F540D4CF4|BA96DE419E711691B9445D6A6307C170|CMT      |1        |N                 |01-01-13 15:11 |01-01-13 15:18  |4              |-73.978165      |40.757977      |-73.989838       |40.751171       |Manhattan     |Manhattan      |\n",
      "|0BD7C8F5BA12B88E0B67BED28BEA73D8|9FD8F69F0804BDB5549F40E9DA1BE472|CMT      |1        |N                 |06-01-13 00:18 |06-01-13 00:22  |1              |-74.006683      |40.731781      |-73.994499       |40.75066        |Brooklyn      |Manhattan      |\n",
      "|0BD7C8F5BA12B88E0B67BED28BEA73D8|9FD8F69F0804BDB5549F40E9DA1BE472|CMT      |1        |N                 |05-01-13 18:49 |05-01-13 18:54  |1              |-74.004707      |40.73777       |-74.009834       |40.726002       |Brooklyn      |Brooklyn       |\n",
      "|DFD2202EE08F7A8DC9A57B02ACB81FE2|51EE87E3205C985EF8431D850C786310|CMT      |1        |N                 |07-01-13 23:54 |07-01-13 23:58  |2              |-73.974602      |40.759945      |-73.984734       |40.759388       |Manhattan     |Manhattan      |\n",
      "|DFD2202EE08F7A8DC9A57B02ACB81FE2|51EE87E3205C985EF8431D850C786310|CMT      |1        |N                 |07-01-13 23:25 |07-01-13 23:34  |1              |-73.97625       |40.748528      |-74.002586       |40.747868       |Manhattan     |Manhattan      |\n",
      "|20D9ECB2CA0767CF7A01564DF2844A3E|598CCE5B9C1918568DEE71F43CF26CD2|CMT      |1        |N                 |07-01-13 15:27 |07-01-13 15:38  |1              |-73.966743      |40.764252      |-73.983322       |40.743763       |Manhattan     |Manhattan      |\n",
      "|496644932DF3932605C22C7926FF0FE0|513189AD756FF14FE670D10B92FAF04C|CMT      |1        |N                 |08-01-13 11:01 |08-01-13 11:08  |1              |-73.995804      |40.743977      |-74.007416       |40.744343       |Manhattan     |Manhattan      |\n",
      "|0B57B9633A2FECD3D3B1944AFC7471CF|CCD4367B417ED6634D986F573A552A62|CMT      |1        |N                 |07-01-13 12:39 |07-01-13 13:10  |3              |-73.989937      |40.756775      |-73.86525        |40.77063        |Manhattan     |Queens         |\n",
      "|2C0E91FF20A856C891483ED63589F982|1DA2F6543A62B8ED934771661A9D2FA0|CMT      |1        |N                 |07-01-13 18:15 |07-01-13 18:20  |1              |-73.980072      |40.743137      |-73.982712       |40.735336       |Manhattan     |Brooklyn       |\n",
      "|2D4B95E2FA7B2E85118EC5CA4570FA58|CD2F522EEE1FF5F5A8D8B679E23576B3|CMT      |1        |N                 |07-01-13 15:33 |07-01-13 15:49  |2              |-73.977936      |40.786983      |-73.952919       |40.80637        |Manhattan     |Manhattan      |\n",
      "|E12F6AF991172EAC3553144A0AF75A19|06918214E951FA0003D1CC54955C2AB0|CMT      |1        |N                 |08-01-13 13:11 |08-01-13 13:19  |1              |-73.982452      |40.773167      |-73.964134       |40.773815       |Manhattan     |Manhattan      |\n",
      "|E12F6AF991172EAC3553144A0AF75A19|06918214E951FA0003D1CC54955C2AB0|CMT      |1        |N                 |08-01-13 09:50 |08-01-13 10:02  |1              |-73.99556       |40.749294      |-73.988686       |40.759052       |Manhattan     |Manhattan      |\n",
      "|78FFD9CD0CDA541F335EF8B38FB494D6|E949C583ECF62C8F03FDCE1484954A08|CMT      |1        |N                 |10-01-13 12:07 |10-01-13 12:17  |1              |-73.971497      |40.791321      |-73.964478       |40.775921       |Manhattan     |Manhattan      |\n",
      "|237F49C3ECC11F5024B254268F054384|93C363DDF8ED9385D65FAD07CE3F5F07|CMT      |1        |N                 |07-01-13 07:35 |07-01-13 07:46  |1              |-73.98851       |40.774307      |-73.981094       |40.755325       |Manhattan     |Manhattan      |\n",
      "|3349F919AA8AE5DC9C50A3773EA45BD8|7CE849FEF67514F080AF80D990F7EF7F|CMT      |1        |N                 |10-01-13 15:42 |10-01-13 16:04  |1              |-73.994911      |40.723221      |-73.971558       |40.761612       |Brooklyn      |Manhattan      |\n",
      "|3349F919AA8AE5DC9C50A3773EA45BD8|7CE849FEF67514F080AF80D990F7EF7F|CMT      |1        |N                 |10-01-13 14:27 |10-01-13 14:45  |1              |-74.010391      |40.708702      |-73.987846       |40.756104       |Brooklyn      |Manhattan      |\n",
      "|4C005EEBAA7BF26B84B21586332488A2|351BE7D984BE17DB2FA80A748E816472|CMT      |1        |N                 |07-01-13 22:09 |07-01-13 22:19  |1              |-73.973732      |40.756287      |-73.998413       |40.756832       |Manhattan     |Manhattan      |\n",
      "|7D99C30FCE69B1A9DD27E2AEAC9BFA0C|460C3F57DD9CB2265DB75B14CD70224D|CMT      |1        |N                 |07-01-13 17:18 |07-01-13 17:20  |1              |-73.968925      |40.767704      |-73.96199        |40.776566       |Manhattan     |Queens         |\n",
      "|E6FBF80668FE0611AEA44FD9574A7E32|36773E80775F26CD1158EB5450A61C79|CMT      |1        |N                 |07-01-13 06:08 |07-01-13 06:13  |1              |-73.96212       |40.769737      |-73.979561       |40.75539        |Queens        |Manhattan      |\n",
      "|0C5296F3C8B16E702F8F2E06F5106552|D2363240A9295EF570FC6069BC4F4C92|CMT      |1        |N                 |07-01-13 22:25 |07-01-13 22:36  |1              |-73.989708      |40.756714      |-73.977615       |40.787575       |Manhattan     |Manhattan      |\n",
      "+--------------------------------+--------------------------------+---------+---------+------------------+---------------+----------------+---------------+----------------+---------------+-----------------+----------------+--------------+---------------+\n",
      "only showing top 20 rows\n",
      "\n"
     ]
    },
    {
     "name": "stderr",
     "output_type": "stream",
     "text": [
      "                                                                                \r"
     ]
    }
   ],
   "source": [
    "# Add pickup and dropoff boroughs to the taxi DataFrame\n",
    "taxi_data_with_boroughs = data.withColumn(\n",
    "    \"pickup_borough\", get_borough_udf(data[\"pickup_longitude\"], data[\"pickup_latitude\"])\n",
    ").withColumn(\n",
    "    \"dropoff_borough\", get_borough_udf(data[\"dropoff_longitude\"], data[\"dropoff_latitude\"])\n",
    ")\n",
    "\n",
    "# Show the resulting DataFrame\n",
    "taxi_data_with_boroughs.show(truncate=False)"
   ]
  },
  {
   "cell_type": "markdown",
   "id": "4698c837",
   "metadata": {},
   "source": [
    "In this cell, we add Unix timestamp columns to represent pickup and dropoff times in the dataset. Using unix_timestamp, we convert the pickup_datetime and dropoff_datetime columns into Unix timestamps based on the format \"MM-dd-yy HH:mm\". Then, we calculate the trip duration in milliseconds by subtracting the pickup timestamp from the dropoff timestamp and multiplying by 1000, storing the result in a new duration column. Finally, we display the pickup_datetime, dropoff_datetime, and duration columns to verify the calculation."
   ]
  },
  {
   "cell_type": "code",
   "execution_count": null,
   "id": "af25948f",
   "metadata": {},
   "outputs": [
    {
     "name": "stdout",
     "output_type": "stream",
     "text": [
      "+---------------+----------------+--------+\n",
      "|pickup_datetime|dropoff_datetime|duration|\n",
      "+---------------+----------------+--------+\n",
      "|01-01-13 15:11 |01-01-13 15:18  |420000  |\n",
      "|06-01-13 00:18 |06-01-13 00:22  |240000  |\n",
      "|05-01-13 18:49 |05-01-13 18:54  |300000  |\n",
      "|07-01-13 23:54 |07-01-13 23:58  |240000  |\n",
      "|07-01-13 23:25 |07-01-13 23:34  |540000  |\n",
      "|07-01-13 15:27 |07-01-13 15:38  |660000  |\n",
      "|08-01-13 11:01 |08-01-13 11:08  |420000  |\n",
      "|07-01-13 12:39 |07-01-13 13:10  |1860000 |\n",
      "|07-01-13 18:15 |07-01-13 18:20  |300000  |\n",
      "|07-01-13 15:33 |07-01-13 15:49  |960000  |\n",
      "|08-01-13 13:11 |08-01-13 13:19  |480000  |\n",
      "|08-01-13 09:50 |08-01-13 10:02  |720000  |\n",
      "|10-01-13 12:07 |10-01-13 12:17  |600000  |\n",
      "|07-01-13 07:35 |07-01-13 07:46  |660000  |\n",
      "|10-01-13 15:42 |10-01-13 16:04  |1320000 |\n",
      "|10-01-13 14:27 |10-01-13 14:45  |1080000 |\n",
      "|07-01-13 22:09 |07-01-13 22:19  |600000  |\n",
      "|07-01-13 17:18 |07-01-13 17:20  |120000  |\n",
      "|07-01-13 06:08 |07-01-13 06:13  |300000  |\n",
      "|07-01-13 22:25 |07-01-13 22:36  |660000  |\n",
      "+---------------+----------------+--------+\n",
      "only showing top 20 rows\n",
      "\n"
     ]
    }
   ],
   "source": [
    "from pyspark.sql import functions as F\n",
    "\n",
    "# Convert pickup and dropoff datetime columns to Unix timestamps\n",
    "data_with_timestamps = taxi_data_with_boroughs.withColumn(\n",
    "    \"pickup_timestamp\", F.unix_timestamp(\"pickup_datetime\", \"MM-dd-yy HH:mm\")\n",
    ").withColumn(\n",
    "    \"dropoff_timestamp\", F.unix_timestamp(\"dropoff_datetime\", \"MM-dd-yy HH:mm\")\n",
    ")\n",
    "\n",
    "# Calculate the trip duration in milliseconds (dropoff - pickup) * 1000\n",
    "data_with_duration = data_with_timestamps.withColumn(\n",
    "    \"duration\", (F.col(\"dropoff_timestamp\") - F.col(\"pickup_timestamp\")) * 1000\n",
    ")\n",
    "\n",
    "# Show the resulting DataFrame with the new duration column\n",
    "data_with_duration.select(\"pickup_datetime\", \"dropoff_datetime\", \"duration\").show(truncate=False)"
   ]
  },
  {
   "cell_type": "code",
   "execution_count": 17,
   "id": "c89c3b14",
   "metadata": {},
   "outputs": [
    {
     "name": "stdout",
     "output_type": "stream",
     "text": [
      "+---------------+----------------+--------+\n",
      "|pickup_datetime|dropoff_datetime|duration|\n",
      "+---------------+----------------+--------+\n",
      "|01-01-13 15:11 |01-01-13 15:18  |420000  |\n",
      "|06-01-13 00:18 |06-01-13 00:22  |240000  |\n",
      "|05-01-13 18:49 |05-01-13 18:54  |300000  |\n",
      "|07-01-13 23:54 |07-01-13 23:58  |240000  |\n",
      "|07-01-13 23:25 |07-01-13 23:34  |540000  |\n",
      "|07-01-13 15:27 |07-01-13 15:38  |660000  |\n",
      "|08-01-13 11:01 |08-01-13 11:08  |420000  |\n",
      "|07-01-13 12:39 |07-01-13 13:10  |1860000 |\n",
      "|07-01-13 18:15 |07-01-13 18:20  |300000  |\n",
      "|07-01-13 15:33 |07-01-13 15:49  |960000  |\n",
      "|08-01-13 13:11 |08-01-13 13:19  |480000  |\n",
      "|08-01-13 09:50 |08-01-13 10:02  |720000  |\n",
      "|10-01-13 12:07 |10-01-13 12:17  |600000  |\n",
      "|07-01-13 07:35 |07-01-13 07:46  |660000  |\n",
      "|10-01-13 15:42 |10-01-13 16:04  |1320000 |\n",
      "|10-01-13 14:27 |10-01-13 14:45  |1080000 |\n",
      "|07-01-13 22:09 |07-01-13 22:19  |600000  |\n",
      "|07-01-13 17:18 |07-01-13 17:20  |120000  |\n",
      "|07-01-13 06:08 |07-01-13 06:13  |300000  |\n",
      "|07-01-13 22:25 |07-01-13 22:36  |660000  |\n",
      "+---------------+----------------+--------+\n",
      "only showing top 20 rows\n",
      "\n"
     ]
    }
   ],
   "source": [
    "# Keep only trips with positive duration and duration under 4 hours (14400000 milliseconds)\n",
    "filtered_data = data_with_duration.filter((F.col(\"duration\") > 0) & (F.col(\"duration\") < 14400000))\n",
    "\n",
    "# Show the filtered data\n",
    "filtered_data.select(\"pickup_datetime\", \"dropoff_datetime\", \"duration\").show(truncate=False)"
   ]
  },
  {
   "cell_type": "code",
   "execution_count": 18,
   "id": "d03e1eae",
   "metadata": {},
   "outputs": [
    {
     "name": "stderr",
     "output_type": "stream",
     "text": [
      "[Stage 5:=============================>                             (1 + 1) / 2]\r"
     ]
    },
    {
     "name": "stdout",
     "output_type": "stream",
     "text": [
      "+-------+-----------------+\n",
      "|summary|         duration|\n",
      "+-------+-----------------+\n",
      "|  count|              237|\n",
      "|   mean|721518.9873417722|\n",
      "| stddev|591084.3710910676|\n",
      "|    min|            60000|\n",
      "|    max|          3060000|\n",
      "+-------+-----------------+\n",
      "\n"
     ]
    },
    {
     "name": "stderr",
     "output_type": "stream",
     "text": [
      "                                                                                \r"
     ]
    }
   ],
   "source": [
    "# Get descriptive statistics for the duration column\n",
    "duration_stats = filtered_data.describe(\"duration\")\n",
    "duration_stats.show()"
   ]
  },
  {
   "cell_type": "markdown",
   "id": "4960b606",
   "metadata": {},
   "source": [
    "Now we convert the filtered_data Spark DataFrame to a Pandas DataFrame (filtered_data_pd) to enable easy plotting with Matplotlib and Seaborn. We focus on visualizing the duration column, which represents trip durations in milliseconds. First, we create a histogram to show the distribution of trip durations (converting milliseconds to minutes by dividing by 60,000) and overlay a kernel density estimate (KDE) for a smoother distribution curve. Then, we use a box plot to help identify any outliers in the trip durations. Both plots provide insights into the range and variation of trip times."
   ]
  },
  {
   "cell_type": "code",
   "execution_count": 24,
   "id": "7b11e3a5",
   "metadata": {},
   "outputs": [
    {
     "data": {
      "image/png": "[encoded data removed]",
      "text/plain": [
       "<Figure size 1000x600 with 1 Axes>"
      ]
     },
     "metadata": {},
     "output_type": "display_data"
    },
    {
     "data": {
      "image/png": "[encoded data removed]",
      "text/plain": [
       "<Figure size 1000x600 with 1 Axes>"
      ]
     },
     "metadata": {},
     "output_type": "display_data"
    }
   ],
   "source": [
    "# Convert the filtered DataFrame to a Pandas DataFrame for plotting\n",
    "filtered_data_pd = filtered_data.select(\"duration\").toPandas()\n",
    "\n",
    "# Import visualization libraries\n",
    "import matplotlib.pyplot as plt\n",
    "import seaborn as sns\n",
    "\n",
    "# Plot the distribution of trip durations\n",
    "plt.figure(figsize=(10, 6))\n",
    "sns.histplot(filtered_data_pd[\"duration\"] / 60000, bins=50, kde=True)  # Convert to minutes\n",
    "plt.title(\"Distribution of Trip Durations (in Minutes)\")\n",
    "plt.xlabel(\"Duration (Minutes)\")\n",
    "plt.ylabel(\"Frequency\")\n",
    "plt.show()\n",
    "\n",
    "# Plot a box plot to identify outliers\n",
    "plt.figure(figsize=(10, 6))\n",
    "sns.boxplot(x=filtered_data_pd[\"duration\"] / 60000)  # Convert to minutes\n",
    "plt.title(\"Box Plot of Trip Durations\")\n",
    "plt.xlabel(\"Duration (Minutes)\")\n",
    "plt.show()"
   ]
  },
  {
   "cell_type": "markdown",
   "id": "89b2010c",
   "metadata": {},
   "source": [
    "Next, we convert the passenger_count column to an integer type for consistency and accurate analysis. We then calculate descriptive statistics by grouping the data by passenger_count and counting the occurrences of each value, displaying the results in descending order. Afterward, we visualize the distribution of passenger counts by converting the Spark DataFrame to Pandas (passenger_count_pd). Using Seaborn, we create a count plot to illustrate the frequency of each passenger count, giving insight into typical passenger numbers in the dataset.\n",
    "We notice that the most frequent number of passengers is 1."
   ]
  },
  {
   "cell_type": "code",
   "execution_count": 25,
   "id": "85938d7b",
   "metadata": {},
   "outputs": [
    {
     "name": "stderr",
     "output_type": "stream",
     "text": [
      "                                                                                \r"
     ]
    },
    {
     "name": "stdout",
     "output_type": "stream",
     "text": [
      "+---------------+-----+\n",
      "|passenger_count|count|\n",
      "+---------------+-----+\n",
      "|              1|  173|\n",
      "|              2|   38|\n",
      "|              3|    9|\n",
      "|              5|    8|\n",
      "|              6|    5|\n",
      "|              4|    4|\n",
      "+---------------+-----+\n",
      "\n"
     ]
    },
    {
     "data": {
      "image/png": "[encoded data removed]",
      "text/plain": [
       "<Figure size 1000x600 with 1 Axes>"
      ]
     },
     "metadata": {},
     "output_type": "display_data"
    }
   ],
   "source": [
    "# Convert the passenger_count column to an integer\n",
    "filtered_data = filtered_data.withColumn(\"passenger_count\", F.col(\"passenger_count\").cast(\"int\"))\n",
    "\n",
    "# Generate descriptive statistics for passenger counts\n",
    "filtered_data.groupBy(\"passenger_count\").count().orderBy(\"count\", ascending=False).show()\n",
    "\n",
    "# Visualize the distribution of passenger counts\n",
    "passenger_count_pd = filtered_data.select(\"passenger_count\").toPandas()\n",
    "\n",
    "plt.figure(figsize=(10, 6))\n",
    "sns.countplot(x=\"passenger_count\", data=passenger_count_pd)\n",
    "plt.title(\"Distribution of Passenger Counts\")\n",
    "plt.xlabel(\"Passenger Count\")\n",
    "plt.ylabel(\"Frequency\")\n",
    "plt.show()"
   ]
  },
  {
   "cell_type": "markdown",
   "id": "b292227e",
   "metadata": {},
   "source": [
    "In this cell, we begin by converting the pickup_datetime column from a string to a timestamp type using to_timestamp, which ensures accurate time-based analysis. Next, we extract the hour component from the pickup_timestamp and store it in a new column called pickup_hour. This transformation allows us to analyze patterns in trip pickups based on the time of day. Finally, we display the pickup_datetime and pickup_hour columns to verify the results."
   ]
  },
  {
   "cell_type": "code",
   "execution_count": 27,
   "id": "57b41b31",
   "metadata": {},
   "outputs": [
    {
     "name": "stdout",
     "output_type": "stream",
     "text": [
      "+---------------+-----------+\n",
      "|pickup_datetime|pickup_hour|\n",
      "+---------------+-----------+\n",
      "|01-01-13 15:11 |15         |\n",
      "|06-01-13 00:18 |0          |\n",
      "|05-01-13 18:49 |18         |\n",
      "|07-01-13 23:54 |23         |\n",
      "|07-01-13 23:25 |23         |\n",
      "|07-01-13 15:27 |15         |\n",
      "|08-01-13 11:01 |11         |\n",
      "|07-01-13 12:39 |12         |\n",
      "|07-01-13 18:15 |18         |\n",
      "|07-01-13 15:33 |15         |\n",
      "|08-01-13 13:11 |13         |\n",
      "|08-01-13 09:50 |9          |\n",
      "|10-01-13 12:07 |12         |\n",
      "|07-01-13 07:35 |7          |\n",
      "|10-01-13 15:42 |15         |\n",
      "|10-01-13 14:27 |14         |\n",
      "|07-01-13 22:09 |22         |\n",
      "|07-01-13 17:18 |17         |\n",
      "|07-01-13 06:08 |6          |\n",
      "|07-01-13 22:25 |22         |\n",
      "+---------------+-----------+\n",
      "only showing top 20 rows\n",
      "\n"
     ]
    }
   ],
   "source": [
    "from pyspark.sql import functions as F\n",
    "\n",
    "# Step 1: Convert `pickup_datetime` string to `timestamp` type\n",
    "data_with_timestamp = filtered_data.withColumn(\n",
    "    \"pickup_timestamp\", F.to_timestamp(F.col(\"pickup_datetime\"), \"MM-dd-yy HH:mm\")\n",
    ")\n",
    "\n",
    "# Step 2: Extract the hour from the `pickup_timestamp`\n",
    "data_with_hour = data_with_timestamp.withColumn(\"pickup_hour\", F.hour(F.col(\"pickup_timestamp\")))\n",
    "\n",
    "# Show the updated DataFrame with `pickup_hour`\n",
    "data_with_hour.select(\"pickup_datetime\", \"pickup_hour\").show(truncate=False)"
   ]
  },
  {
   "cell_type": "markdown",
   "id": "bf1d7466",
   "metadata": {},
   "source": [
    "In this cell, we group the data by pickup_hour to count the number of trips per hour and then convert the result to a Pandas DataFrame for plotting. Using Seaborn, we create a bar plot to visualize the hourly distribution of trips, helping to identify peak hours for pickups."
   ]
  },
  {
   "cell_type": "code",
   "execution_count": 28,
   "id": "77a2cc1a",
   "metadata": {},
   "outputs": [
    {
     "name": "stderr",
     "output_type": "stream",
     "text": [
      "                                                                                \r"
     ]
    },
    {
     "data": {
      "image/png": "[encoded data removed]",
      "text/plain": [
       "<Figure size 1000x600 with 1 Axes>"
      ]
     },
     "metadata": {},
     "output_type": "display_data"
    }
   ],
   "source": [
    "# Group by hour and count the number of trips\n",
    "hourly_trip_counts = data_with_hour.groupBy(\"pickup_hour\").count().orderBy(\"pickup_hour\")\n",
    "\n",
    "# Convert to Pandas for plotting\n",
    "hourly_trip_counts_pd = hourly_trip_counts.toPandas()\n",
    "\n",
    "# Plot hourly distribution of trips\n",
    "import matplotlib.pyplot as plt\n",
    "import seaborn as sns\n",
    "\n",
    "plt.figure(figsize=(10, 6))\n",
    "sns.barplot(x=\"pickup_hour\", y=\"count\", data=hourly_trip_counts_pd)\n",
    "plt.title(\"Hourly Distribution of Trips\")\n",
    "plt.xlabel(\"Pickup Hour\")\n",
    "plt.ylabel(\"Number of Trips\")\n",
    "plt.show()"
   ]
  },
  {
   "cell_type": "markdown",
   "id": "a385fd31",
   "metadata": {},
   "source": [
    "We notice that rush hours are 10AM and 6PM."
   ]
  },
  {
   "cell_type": "code",
   "execution_count": 29,
   "id": "323ee41f",
   "metadata": {},
   "outputs": [],
   "source": [
    "# Repartition the data by taxiID to ensure all trips for a taxi are processed together\n",
    "shuffled_data = data_with_duration.repartition(\"medallion\")"
   ]
  },
  {
   "cell_type": "markdown",
   "id": "c610582a",
   "metadata": {},
   "source": [
    "In this cell, we define a window specification to analyze trips for each taxi (medallion) in chronological order by pickup_timestamp. Using this window, we calculate the prev_dropoff time for each trip by applying the lag function. This adds a column with the timestamp of the previous trip’s dropoff, which can help analyze gaps or downtime between trips for each taxi."
   ]
  },
  {
   "cell_type": "code",
   "execution_count": 30,
   "id": "fc24a09c",
   "metadata": {},
   "outputs": [],
   "source": [
    "from pyspark.sql import Window\n",
    "import pyspark.sql.functions as F\n",
    "\n",
    "# Define a window partitioned by taxiID and ordered by pickup time\n",
    "window_spec = Window.partitionBy(\"medallion\").orderBy(\"pickup_timestamp\")\n",
    "\n",
    "# Calculate the previous dropoff time (lag) for each taxi\n",
    "data_with_lag = shuffled_data.withColumn(\"prev_dropoff\", F.lag(\"dropoff_timestamp\").over(window_spec))"
   ]
  },
  {
   "cell_type": "code",
   "execution_count": 31,
   "id": "49411743",
   "metadata": {},
   "outputs": [],
   "source": [
    "# Calculate the idle time in seconds\n",
    "data_with_idle_time = data_with_lag.withColumn(\n",
    "    \"idle_time\", \n",
    "    (F.col(\"pickup_timestamp\").cast(\"long\") - F.col(\"prev_dropoff\").cast(\"long\"))\n",
    ")\n",
    "\n",
    "# Convert idle time to milliseconds\n",
    "data_with_idle_time = data_with_idle_time.withColumn(\"idle_time_ms\", F.col(\"idle_time\") * 1000)"
   ]
  },
  {
   "cell_type": "code",
   "execution_count": 32,
   "id": "cd608769",
   "metadata": {},
   "outputs": [],
   "source": [
    "# Filter out new sessions where the idle time exceeds 4 hours (14400 seconds)\n",
    "data_filtered = data_with_idle_time.filter((F.col(\"idle_time\") > 0) & (F.col(\"idle_time\") <= 14400))"
   ]
  },
  {
   "cell_type": "code",
   "execution_count": 33,
   "id": "f3c8a372",
   "metadata": {},
   "outputs": [
    {
     "name": "stderr",
     "output_type": "stream",
     "text": [
      "                                                                                \r"
     ]
    },
    {
     "name": "stdout",
     "output_type": "stream",
     "text": [
      "+--------------------------------+------------------+\n",
      "|medallion                       |total_idle_time_ms|\n",
      "+--------------------------------+------------------+\n",
      "|764CA5AE502C0FEC9BB69DBCB6BB4ECC|3240000           |\n",
      "|DDB3F3E0172B1FBF0C9E39CA773CC6E3|12360000          |\n",
      "|4728FA63A46613319446ED726626FED3|12000000          |\n",
      "|82420BD631D2BB88E2F213A8CA15BECE|840000            |\n",
      "|AA49129321B8D4FFE890CFDA2FBC1E8D|3000000           |\n",
      "|FAE1370A694D0621FAE1E62FAFD64080|6060000           |\n",
      "|961D9C9506D105D3A7E88229F0487033|4080000           |\n",
      "|24929E5F008DBC4C0E551B957F619910|16020000          |\n",
      "|26B6CDD419985C6F551F0FAE87EF3AA9|180000            |\n",
      "|E12F6AF991172EAC3553144A0AF75A19|17940000          |\n",
      "|78FFD9CD0CDA541F335EF8B38FB494D6|7500000           |\n",
      "|D5367E940A20B9D2550BF7CF7AE01681|9120000           |\n",
      "|2D4B95E2FA7B2E85118EC5CA4570FA58|8040000           |\n",
      "|E9BA494DC1A1F26D186394EFBB8327CF|6000000           |\n",
      "|FA3DD236E7627E99646337C5218EA281|7260000           |\n",
      "|0B57B9633A2FECD3D3B1944AFC7471CF|12300000          |\n",
      "|CD847FE5884F10A28217E9FBA11B275B|5640000           |\n",
      "|B14118AD4BF381D80035EF546CE7AEFA|16200000          |\n",
      "|0C5296F3C8B16E702F8F2E06F5106552|4920000           |\n",
      "|2C0E91FF20A856C891483ED63589F982|240000            |\n",
      "+--------------------------------+------------------+\n",
      "only showing top 20 rows\n",
      "\n"
     ]
    }
   ],
   "source": [
    "# Group by taxiID (medallion) and sum the idle time\n",
    "total_idle_time = data_filtered.groupBy(\"medallion\").agg(F.sum(\"idle_time_ms\").alias(\"total_idle_time_ms\"))\n",
    "\n",
    "# Show the results\n",
    "total_idle_time.show(truncate=False)"
   ]
  },
  {
   "cell_type": "code",
   "execution_count": 34,
   "id": "1c7e20c4",
   "metadata": {},
   "outputs": [
    {
     "name": "stderr",
     "output_type": "stream",
     "text": [
      "                                                                                \r"
     ]
    },
    {
     "data": {
      "image/png": "[encoded data removed]",
      "text/plain": [
       "<Figure size 1000x600 with 1 Axes>"
      ]
     },
     "metadata": {},
     "output_type": "display_data"
    }
   ],
   "source": [
    "import matplotlib.pyplot as plt\n",
    "import pandas as pd\n",
    "\n",
    "# Convert to Pandas for visualization\n",
    "total_idle_time_pd = total_idle_time.toPandas()\n",
    "\n",
    "# Plotting the idle times\n",
    "plt.figure(figsize=(10, 6))\n",
    "plt.hist(total_idle_time_pd[\"total_idle_time_ms\"] / 60000, bins=50)  # Convert to minutes\n",
    "plt.title(\"Distribution of Taxi Idle Times (in Minutes)\")\n",
    "plt.xlabel(\"Idle Time (Minutes)\")\n",
    "plt.ylabel(\"Frequency\")\n",
    "plt.show()"
   ]
  },
  {
   "cell_type": "code",
   "execution_count": 36,
   "id": "42378a60",
   "metadata": {},
   "outputs": [
    {
     "name": "stderr",
     "output_type": "stream",
     "text": [
      "                                                                                \r"
     ]
    },
    {
     "name": "stdout",
     "output_type": "stream",
     "text": [
      "+--------------------+---------------+\n",
      "|           medallion|total_idle_time|\n",
      "+--------------------+---------------+\n",
      "|DDB3F3E0172B1FBF0...|           6960|\n",
      "|AA49129321B8D4FFE...|           1560|\n",
      "|961D9C9506D105D3A...|           2880|\n",
      "|24929E5F008DBC4C0...|           6720|\n",
      "|E12F6AF991172EAC3...|           6600|\n",
      "|78FFD9CD0CDA541F3...|           7320|\n",
      "|2D4B95E2FA7B2E851...|            900|\n",
      "|0B57B9633A2FECD3D...|           5280|\n",
      "|CD847FE5884F10A28...|           3600|\n",
      "|B14118AD4BF381D80...|           3900|\n",
      "|0C5296F3C8B16E702...|            180|\n",
      "|50296A056AF5D2215...|            480|\n",
      "|A5A69FAD94C3DC785...|           9300|\n",
      "|4C005EEBAA7BF26B8...|           2220|\n",
      "+--------------------+---------------+\n",
      "\n"
     ]
    }
   ],
   "source": [
    "# Shuffle and sort by taxiID and pickup time\n",
    "window_spec = Window.partitionBy(\"medallion\").orderBy(\"pickup_timestamp\")\n",
    "\n",
    "# Calculate the idle time for each taxi\n",
    "data_with_lag = data_filtered.withColumn(\"prev_dropoff\", F.lag(\"dropoff_timestamp\").over(window_spec))\n",
    "\n",
    "# Compute idle time (in seconds)\n",
    "data_with_idle_time = data_with_lag.withColumn(\"idle_time\", \n",
    "                                               (F.col(\"pickup_timestamp\").cast(\"long\") - \n",
    "                                                F.col(\"prev_dropoff\").cast(\"long\")))\n",
    "\n",
    "# Filter out new sessions (idle times longer than 4 hours)\n",
    "filtered_idle_times = data_with_idle_time.filter((F.col(\"idle_time\") > 0) & (F.col(\"idle_time\") <= 14400))\n",
    "\n",
    "# Group by taxiID and sum the idle time\n",
    "taxi_utilization = filtered_idle_times.groupBy(\"medallion\").agg(F.sum(\"idle_time\").alias(\"total_idle_time\"))\n",
    "\n",
    "# Show results\n",
    "taxi_utilization.show()"
   ]
  },
  {
   "cell_type": "markdown",
   "id": "c644993c",
   "metadata": {},
   "source": [
    "In this cell, we first define a window to analyze each taxi’s trips based on dropoff_timestamp to find the next pickup time using the lead function. We then calculate the time difference between the current trip's dropoff and the next pickup, storing this in the time_to_next_fare column. After filtering for reasonable time differences (less than 4 hours), we group the data by dropoff_borough and compute the average time to the next fare. Finally, we display the average time for each destination borough, providing insights into how quickly taxis can find their next passenger."
   ]
  },
  {
   "cell_type": "code",
   "execution_count": 38,
   "id": "2aedfd73",
   "metadata": {},
   "outputs": [
    {
     "name": "stderr",
     "output_type": "stream",
     "text": [
      "                                                                                \r"
     ]
    },
    {
     "name": "stdout",
     "output_type": "stream",
     "text": [
      "+---------------+---------------------+\n",
      "|dropoff_borough|avg_time_to_next_fare|\n",
      "+---------------+---------------------+\n",
      "|         Queens|               3120.0|\n",
      "|           null|               6960.0|\n",
      "|       Brooklyn|               1560.0|\n",
      "|      Manhattan|   2858.5714285714284|\n",
      "+---------------+---------------------+\n",
      "\n"
     ]
    }
   ],
   "source": [
    "# Use a Window partitioned by taxi and ordered by dropoff time to get the next pickup\n",
    "window_spec_next = Window.partitionBy(\"medallion\").orderBy(\"dropoff_timestamp\")\n",
    "\n",
    "# Calculate the pickup time of the next trip\n",
    "data_with_next_pickup = data_filtered.withColumn(\"next_pickup\", F.lead(\"pickup_timestamp\").over(window_spec_next))\n",
    "\n",
    "# Calculate time difference between the current dropoff and the next pickup\n",
    "data_with_next_fare_time = data_with_next_pickup.withColumn(\n",
    "    \"time_to_next_fare\", \n",
    "    (F.col(\"next_pickup\").cast(\"long\") - F.col(\"dropoff_timestamp\").cast(\"long\"))\n",
    ")\n",
    "\n",
    "# Filter trips with reasonable time differences (e.g., less than 4 hours)\n",
    "valid_next_fares = data_with_next_fare_time.filter(F.col(\"time_to_next_fare\") <= 14400)\n",
    "\n",
    "# Group by destination borough and compute the average time to find the next fare\n",
    "avg_next_fare_time = valid_next_fares.groupBy(\"dropoff_borough\").agg(\n",
    "    F.avg(\"time_to_next_fare\").alias(\"avg_time_to_next_fare\")\n",
    ")\n",
    "\n",
    "# Show the result\n",
    "avg_next_fare_time.show()"
   ]
  },
  {
   "cell_type": "code",
   "execution_count": 39,
   "id": "a5886848",
   "metadata": {},
   "outputs": [
    {
     "name": "stderr",
     "output_type": "stream",
     "text": [
      "                                                                                \r"
     ]
    },
    {
     "name": "stdout",
     "output_type": "stream",
     "text": [
      "+--------------+-----+\n",
      "|pickup_borough|count|\n",
      "+--------------+-----+\n",
      "|        Queens|    1|\n",
      "|      Brooklyn|    2|\n",
      "|     Manhattan|   20|\n",
      "+--------------+-----+\n",
      "\n"
     ]
    }
   ],
   "source": [
    "# Filter trips where pickup and dropoff boroughs are the same\n",
    "same_borough_trips = data_filtered.filter(F.col(\"pickup_borough\") == F.col(\"dropoff_borough\"))\n",
    "\n",
    "# Count the number of trips for each borough\n",
    "same_borough_count = same_borough_trips.groupBy(\"pickup_borough\").count()\n",
    "\n",
    "# Show the result\n",
    "same_borough_count.show()"
   ]
  },
  {
   "cell_type": "code",
   "execution_count": 40,
   "id": "edee7d9c",
   "metadata": {},
   "outputs": [
    {
     "name": "stderr",
     "output_type": "stream",
     "text": [
      "[Stage 74:=============================>                            (1 + 1) / 2]\r"
     ]
    },
    {
     "name": "stdout",
     "output_type": "stream",
     "text": [
      "Number of trips that started and ended in different boroughs: 24\n"
     ]
    },
    {
     "name": "stderr",
     "output_type": "stream",
     "text": [
      "                                                                                \r"
     ]
    }
   ],
   "source": [
    "# Filter trips where pickup and dropoff boroughs are different\n",
    "different_borough_trips = data_filtered.filter(F.col(\"pickup_borough\") != F.col(\"dropoff_borough\"))\n",
    "\n",
    "# Count the number of trips\n",
    "different_borough_count = different_borough_trips.count()\n",
    "\n",
    "# Show the result\n",
    "print(f\"Number of trips that started and ended in different boroughs: {different_borough_count}\")"
   ]
  },
  {
   "cell_type": "code",
   "execution_count": 43,
   "id": "39f70d46",
   "metadata": {},
   "outputs": [
    {
     "name": "stdout",
     "output_type": "stream",
     "text": [
      "root\n",
      " |-- medallion: string (nullable = true)\n",
      " |-- hack_license: string (nullable = true)\n",
      " |-- vendor_id: string (nullable = true)\n",
      " |-- rate_code: string (nullable = true)\n",
      " |-- store_and_fwd_flag: string (nullable = true)\n",
      " |-- pickup_datetime: string (nullable = true)\n",
      " |-- dropoff_datetime: string (nullable = true)\n",
      " |-- passenger_count: string (nullable = true)\n",
      " |-- pickup_longitude: float (nullable = true)\n",
      " |-- pickup_latitude: float (nullable = true)\n",
      " |-- dropoff_longitude: float (nullable = true)\n",
      " |-- dropoff_latitude: float (nullable = true)\n",
      "\n",
      "+----------------+---------------+-----------------+----------------+\n",
      "|pickup_longitude|pickup_latitude|dropoff_longitude|dropoff_latitude|\n",
      "+----------------+---------------+-----------------+----------------+\n",
      "|      -73.978165|      40.757977|        -73.98984|        40.75117|\n",
      "|       -74.00668|       40.73178|         -73.9945|        40.75066|\n",
      "|       -74.00471|       40.73777|       -74.009834|          40.726|\n",
      "|        -73.9746|      40.759945|        -73.98473|       40.759388|\n",
      "|       -73.97625|      40.748528|        -74.00259|       40.747868|\n",
      "+----------------+---------------+-----------------+----------------+\n",
      "only showing top 5 rows\n",
      "\n"
     ]
    }
   ],
   "source": [
    "from pyspark.sql import functions as F\n",
    "\n",
    "# Convert pickup and dropoff latitude and longitude to floats\n",
    "data_with_floats = data.withColumn(\"pickup_longitude\", F.col(\"pickup_longitude\").cast(\"float\")) \\\n",
    "                       .withColumn(\"pickup_latitude\", F.col(\"pickup_latitude\").cast(\"float\")) \\\n",
    "                       .withColumn(\"dropoff_longitude\", F.col(\"dropoff_longitude\").cast(\"float\")) \\\n",
    "                       .withColumn(\"dropoff_latitude\", F.col(\"dropoff_latitude\").cast(\"float\"))\n",
    "\n",
    "# Show the schema to verify the conversions\n",
    "data_with_floats.printSchema()\n",
    "\n",
    "# Show a sample of the converted data\n",
    "data_with_floats.select(\"pickup_longitude\", \"pickup_latitude\", \"dropoff_longitude\", \"dropoff_latitude\").show(5)"
   ]
  },
  {
   "cell_type": "markdown",
   "id": "37e8bcf6",
   "metadata": {},
   "source": [
    "We use VectorAssembler from PySpark’s ML library to create a feature vector for clustering based on pickup coordinates. We specify pickup_longitude and pickup_latitude as the input columns and define a new column named features to store the resulting vectors. We then apply the assembler to the dataset, transforming it to include the feature vectors. Finally, we display a sample of the dataset, showcasing the original pickup coordinates alongside the newly created features column."
   ]
  },
  {
   "cell_type": "code",
   "execution_count": 44,
   "id": "c7a8dacc",
   "metadata": {},
   "outputs": [
    {
     "name": "stdout",
     "output_type": "stream",
     "text": [
      "+----------------+---------------+--------------------+\n",
      "|pickup_longitude|pickup_latitude|            features|\n",
      "+----------------+---------------+--------------------+\n",
      "|      -73.978165|      40.757977|[-73.978164672851...|\n",
      "|       -74.00668|       40.73178|[-74.006683349609...|\n",
      "|       -74.00471|       40.73777|[-74.004707336425...|\n",
      "|        -73.9746|      40.759945|[-73.974601745605...|\n",
      "|       -73.97625|      40.748528|[-73.976249694824...|\n",
      "+----------------+---------------+--------------------+\n",
      "only showing top 5 rows\n",
      "\n"
     ]
    }
   ],
   "source": [
    "from pyspark.ml.feature import VectorAssembler\n",
    "\n",
    "# Create a vector for clustering based on pickup longitude and latitude\n",
    "assembler = VectorAssembler(inputCols=[\"pickup_longitude\", \"pickup_latitude\"], outputCol=\"features\")\n",
    "\n",
    "# Apply the assembler to the dataset\n",
    "data_with_features = assembler.transform(data_with_floats)\n",
    "\n",
    "# Show a sample with the new features column\n",
    "data_with_features.select(\"pickup_longitude\", \"pickup_latitude\", \"features\").show(5)"
   ]
  },
  {
   "cell_type": "markdown",
   "id": "9c10efbf",
   "metadata": {},
   "source": [
    "Here, we initialize a KMeans clustering model with a specified number of clusters (k=5) and a random seed for reproducibility. We fit the model to the dataset containing the feature vectors created earlier. After fitting, we transform the data to include cluster predictions for each record, which indicates the assigned cluster based on pickup locations. We then display the longitude and latitude of the pickups alongside their corresponding cluster assignments. Finally, we retrieve and print the cluster centers, which represent the most popular pickup locations identified by the model."
   ]
  },
  {
   "cell_type": "code",
   "execution_count": null,
   "id": "2f6ffb9f",
   "metadata": {},
   "outputs": [
    {
     "name": "stderr",
     "output_type": "stream",
     "text": [
      "24/10/21 16:36:10 WARN BLAS: Failed to load implementation from: com.github.fommil.netlib.NativeSystemBLAS\n",
      "24/10/21 16:36:10 WARN BLAS: Failed to load implementation from: com.github.fommil.netlib.NativeRefBLAS\n"
     ]
    },
    {
     "name": "stdout",
     "output_type": "stream",
     "text": [
      "+----------------+---------------+----------+\n",
      "|pickup_longitude|pickup_latitude|prediction|\n",
      "+----------------+---------------+----------+\n",
      "|      -73.978165|      40.757977|         0|\n",
      "|       -74.00668|       40.73178|         0|\n",
      "|       -74.00471|       40.73777|         0|\n",
      "|        -73.9746|      40.759945|         0|\n",
      "|       -73.97625|      40.748528|         0|\n",
      "+----------------+---------------+----------+\n",
      "only showing top 5 rows\n",
      "\n",
      "Cluster Centers:  [array([-73.97318048,  40.75217187]), array([-0.00034456,  0.00059791]), array([-2.51666993e-01,  6.46438293e+02]), array([-0.06988507, 41.93476789]), array([-73.99081421, 404.55758667])]\n"
     ]
    }
   ],
   "source": [
    "from pyspark.ml.clustering import KMeans\n",
    "\n",
    "# Initialize the KMeans model\n",
    "kmeans = KMeans(k=5, seed=1)\n",
    "kmeans_model = kmeans.fit(data_with_features)\n",
    "\n",
    "# Make predictions\n",
    "clustered_data = kmeans_model.transform(data_with_features)\n",
    "\n",
    "# Show the cluster assignments for each row\n",
    "clustered_data.select(\"pickup_longitude\", \"pickup_latitude\", \"prediction\").show(5)\n",
    "\n",
    "# Get the cluster centers (i.e., the most popular pickup locations)\n",
    "centers = kmeans_model.clusterCenters()\n",
    "print(\"Cluster Centers: \", centers)"
   ]
  },
  {
   "cell_type": "code",
   "execution_count": 46,
   "id": "11018005",
   "metadata": {},
   "outputs": [
    {
     "data": {
      "image/png": "[encoded data removed]",
      "text/plain": [
       "<Figure size 1000x600 with 1 Axes>"
      ]
     },
     "metadata": {},
     "output_type": "display_data"
    }
   ],
   "source": [
    "import pandas as pd\n",
    "import matplotlib.pyplot as plt\n",
    "\n",
    "# Convert cluster centers to a Pandas DataFrame for easy plotting\n",
    "centers_pd = pd.DataFrame(centers, columns=[\"longitude\", \"latitude\"])\n",
    "\n",
    "# Plot the cluster centers (popular pickup locations) on a scatter plot\n",
    "plt.figure(figsize=(10, 6))\n",
    "plt.scatter(centers_pd[\"longitude\"], centers_pd[\"latitude\"], c=\"red\", s=100, marker=\"x\")\n",
    "plt.title(\"Cluster Centers: Popular Pickup Locations\")\n",
    "plt.xlabel(\"Longitude\")\n",
    "plt.ylabel(\"Latitude\")\n",
    "plt.show()"
   ]
  },
  {
   "cell_type": "code",
   "execution_count": 47,
   "id": "7b6a4737",
   "metadata": {},
   "outputs": [
    {
     "name": "stdout",
     "output_type": "stream",
     "text": [
      "Collecting folium\n",
      "  Downloading folium-0.17.0-py2.py3-none-any.whl.metadata (3.8 kB)\n",
      "Collecting branca>=0.6.0 (from folium)\n",
      "  Downloading branca-0.8.0-py3-none-any.whl.metadata (1.5 kB)\n",
      "Requirement already satisfied: jinja2>=2.9 in /usr/local/lib/python3.9/dist-packages (from folium) (3.1.2)\n",
      "Requirement already satisfied: numpy in /usr/local/lib/python3.9/dist-packages (from folium) (2.0.2)\n",
      "Requirement already satisfied: requests in /usr/local/lib/python3.9/dist-packages (from folium) (2.31.0)\n",
      "Collecting xyzservices (from folium)\n",
      "  Downloading xyzservices-2024.9.0-py3-none-any.whl.metadata (4.1 kB)\n",
      "Requirement already satisfied: MarkupSafe>=2.0 in /usr/local/lib/python3.9/dist-packages (from jinja2>=2.9->folium) (2.1.3)\n",
      "Requirement already satisfied: charset-normalizer<4,>=2 in /usr/local/lib/python3.9/dist-packages (from requests->folium) (3.2.0)\n",
      "Requirement already satisfied: idna<4,>=2.5 in /usr/local/lib/python3.9/dist-packages (from requests->folium) (3.4)\n",
      "Requirement already satisfied: urllib3<3,>=1.21.1 in /usr/local/lib/python3.9/dist-packages (from requests->folium) (2.0.4)\n",
      "Requirement already satisfied: certifi>=2017.4.17 in /usr/local/lib/python3.9/dist-packages (from requests->folium) (2023.7.22)\n",
      "Downloading folium-0.17.0-py2.py3-none-any.whl (108 kB)\n",
      "Downloading branca-0.8.0-py3-none-any.whl (25 kB)\n",
      "Downloading xyzservices-2024.9.0-py3-none-any.whl (85 kB)\n",
      "Installing collected packages: xyzservices, branca, folium\n",
      "Successfully installed branca-0.8.0 folium-0.17.0 xyzservices-2024.9.0\n",
      "\u001b[33mWARNING: Running pip as the 'root' user can result in broken permissions and conflicting behaviour with the system package manager, possibly rendering your system unusable.It is recommended to use a virtual environment instead: https://pip.pypa.io/warnings/venv. Use the --root-user-action option if you know what you are doing and want to suppress this warning.\u001b[0m\u001b[33m\n",
      "\u001b[0mNote: you may need to restart the kernel to use updated packages.\n"
     ]
    }
   ],
   "source": [
    "pip install folium"
   ]
  },
  {
   "cell_type": "markdown",
   "id": "04118cac",
   "metadata": {},
   "source": [
    "In this cell, we create a heatmap to visualize pickup locations in New York City using the Folium library. We first convert the pickup latitude and longitude data into a list of coordinates. Then, we initialize a Folium map centered on New York City with a specified zoom level. We add a heatmap layer to the map using the pickup locations. Finally, we save the resulting map as an HTML file (nyc_pickup_heatmap.html), which can be opened in a web browser to explore the density of pickups across the city visually."
   ]
  },
  {
   "cell_type": "code",
   "execution_count": 48,
   "id": "1f5df60a",
   "metadata": {},
   "outputs": [],
   "source": [
    "import folium\n",
    "from folium.plugins import HeatMap\n",
    "\n",
    "# Convert pickup locations to a list of [latitude, longitude]\n",
    "pickup_locations = data_with_floats.select(\"pickup_latitude\", \"pickup_longitude\").rdd.map(lambda row: [row[0], row[1]]).collect()\n",
    "\n",
    "# Initialize a folium map centered at NYC\n",
    "nyc_map = folium.Map(location=[40.7128, -74.0060], zoom_start=12)\n",
    "\n",
    "# Add heatmap to the map\n",
    "HeatMap(pickup_locations).add_to(nyc_map)\n",
    "\n",
    "# Show the map\n",
    "nyc_map.save(\"nyc_pickup_heatmap.html\")"
   ]
  },
  {
   "cell_type": "code",
   "execution_count": 49,
   "id": "df010a62",
   "metadata": {},
   "outputs": [
    {
     "name": "stdout",
     "output_type": "stream",
     "text": [
      "+------------------------------------------+\n",
      "|scaled_features                           |\n",
      "+------------------------------------------+\n",
      "|[-0.1351624153586362,0.12239289847410714] |\n",
      "|[-0.13807723968266755,0.11787295883274997]|\n",
      "|[-0.13787527619954176,0.11890635117830564]|\n",
      "|[-0.13479825726357933,0.12273253570360186]|\n",
      "|[-0.1349666901298155,0.12076250813019543] |\n",
      "+------------------------------------------+\n",
      "only showing top 5 rows\n",
      "\n"
     ]
    }
   ],
   "source": [
    "from pyspark.ml.feature import StandardScaler\n",
    "from pyspark.ml.feature import VectorAssembler\n",
    "\n",
    "# Assemble the feature vector using pickup_longitude and pickup_latitude\n",
    "assembler = VectorAssembler(inputCols=[\"pickup_longitude\", \"pickup_latitude\"], outputCol=\"features\")\n",
    "\n",
    "# Transform the data to include the features column\n",
    "data_with_features = assembler.transform(data_with_floats)\n",
    "\n",
    "# Standardize the features using StandardScaler\n",
    "scaler = StandardScaler(inputCol=\"features\", outputCol=\"scaled_features\", withStd=True, withMean=True)\n",
    "scaler_model = scaler.fit(data_with_features)\n",
    "scaled_data = scaler_model.transform(data_with_features)\n",
    "\n",
    "# Show a sample of the scaled data\n",
    "scaled_data.select(\"scaled_features\").show(5, truncate=False)"
   ]
  },
  {
   "cell_type": "code",
   "execution_count": null,
   "id": "5cfe3744",
   "metadata": {},
   "outputs": [
    {
     "name": "stdout",
     "output_type": "stream",
     "text": [
      "+----------------+---------------+----------+\n",
      "|pickup_longitude|pickup_latitude|prediction|\n",
      "+----------------+---------------+----------+\n",
      "|      -73.978165|      40.757977|         0|\n",
      "|       -74.00668|       40.73178|         0|\n",
      "|       -74.00471|       40.73777|         0|\n",
      "|        -73.9746|      40.759945|         0|\n",
      "|       -73.97625|      40.748528|         0|\n",
      "+----------------+---------------+----------+\n",
      "only showing top 5 rows\n",
      "\n",
      "Cluster Centers:  [array([-0.13465299,  0.12139133]), array([ 7.42592996, -6.9101397 ]), array([  7.40024291, 104.63025663]), array([7.4188224 , 0.32544383]), array([-0.13645529, 62.89464919])]\n"
     ]
    }
   ],
   "source": [
    "from pyspark.ml.clustering import KMeans\n",
    "\n",
    "# Initialize the KMeans model\n",
    "kmeans = KMeans(k=5, seed=1, featuresCol=\"scaled_features\")  # Use the scaled features\n",
    "kmeans_model = kmeans.fit(scaled_data)\n",
    "\n",
    "# Make predictions\n",
    "clustered_data = kmeans_model.transform(scaled_data)\n",
    "\n",
    "# Show the cluster assignments for each row\n",
    "clustered_data.select(\"pickup_longitude\", \"pickup_latitude\", \"prediction\").show(5)\n",
    "\n",
    "# Get the cluster centers (the most popular pickup locations)\n",
    "centers = kmeans_model.clusterCenters()\n",
    "print(\"Cluster Centers: \", centers)"
   ]
  }
 ],
 "metadata": {
  "kernelspec": {
   "display_name": "Python 3 (ipykernel)",
   "language": "python",
   "name": "python3"
  },
  "language_info": {
   "codemirror_mode": {
    "name": "ipython",
    "version": 3
   },
   "file_extension": ".py",
   "mimetype": "text/x-python",
   "name": "python",
   "nbconvert_exporter": "python",
   "pygments_lexer": "ipython3",
   "version": "3.9.2"
  }
 },
 "nbformat": 4,
 "nbformat_minor": 5
}
